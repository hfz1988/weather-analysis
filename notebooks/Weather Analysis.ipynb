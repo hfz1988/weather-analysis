{
 "cells": [
  {
   "cell_type": "markdown",
   "id": "1e335ecb-247f-4cec-b114-4900890f2978",
   "metadata": {},
   "source": [
    "# Extreme Weather Data Analysis Practice Project"
   ]
  },
  {
   "cell_type": "markdown",
   "id": "43371b5c-8bdb-478d-9e61-5c3e2035a980",
   "metadata": {},
   "source": [
    "## SQL Practice\n",
    "\n",
    "Source: https://www.linkedin.com/posts/mary-knoeferl_extreme-weather-data-analysis-project-mknoeferl-activity-7371233708634419200-gv5c?utm_source=share&utm_medium=member_desktop&rcm=ACoAAAvEfcEBGoC1T5quuEpkCHJA9lb82uz-6iw\n",
    "\n",
    "The database for this project can be found here: https://lnkd.in/gkxiUeMs "
   ]
  },
  {
   "cell_type": "code",
   "execution_count": 2,
   "id": "8c65eb63-af48-46af-964a-f297b2aa049b",
   "metadata": {},
   "outputs": [],
   "source": [
    "# ================================\n",
    "# 📦 Setup\n",
    "# ================================\n",
    "import sqlite3\n",
    "import pandas as pd\n",
    "import matplotlib.pyplot as plt\n",
    "import seaborn as sns\n",
    "\n",
    "# Koneksi ke database\n",
    "db_file = \"Weather.db\"\n",
    "conn = sqlite3.connect(db_file)\n"
   ]
  },
  {
   "cell_type": "markdown",
   "id": "fec60f39-6285-423b-a22f-8020e465df6e",
   "metadata": {},
   "source": [
    "### Q1 - Total jumlah hari data"
   ]
  },
  {
   "cell_type": "code",
   "execution_count": 3,
   "id": "21b7372e-bb7b-4df7-84a1-eef943cdc855",
   "metadata": {},
   "outputs": [
    {
     "data": {
      "text/html": [
       "<div>\n",
       "<style scoped>\n",
       "    .dataframe tbody tr th:only-of-type {\n",
       "        vertical-align: middle;\n",
       "    }\n",
       "\n",
       "    .dataframe tbody tr th {\n",
       "        vertical-align: top;\n",
       "    }\n",
       "\n",
       "    .dataframe thead th {\n",
       "        text-align: right;\n",
       "    }\n",
       "</style>\n",
       "<table border=\"1\" class=\"dataframe\">\n",
       "  <thead>\n",
       "    <tr style=\"text-align: right;\">\n",
       "      <th></th>\n",
       "      <th>total_days</th>\n",
       "    </tr>\n",
       "  </thead>\n",
       "  <tbody>\n",
       "    <tr>\n",
       "      <th>0</th>\n",
       "      <td>370</td>\n",
       "    </tr>\n",
       "  </tbody>\n",
       "</table>\n",
       "</div>"
      ],
      "text/plain": [
       "   total_days\n",
       "0         370"
      ]
     },
     "execution_count": 3,
     "metadata": {},
     "output_type": "execute_result"
    }
   ],
   "source": [
    "query = \"SELECT COUNT(*) AS total_days FROM daily_weather;\"\n",
    "df_days = pd.read_sql(query, conn)\n",
    "df_days\n"
   ]
  },
  {
   "cell_type": "markdown",
   "id": "68533da2-dab8-4528-b825-57f9323c03e4",
   "metadata": {},
   "source": [
    "#### Insight\n",
    "Total terdapat observasi cuaca dari 370 hari."
   ]
  },
  {
   "cell_type": "markdown",
   "id": "00b4b150-36c8-48e4-9c72-27bfb678187c",
   "metadata": {},
   "source": [
    "### Q2 - Suhu maksimum tertinggi & tanggal"
   ]
  },
  {
   "cell_type": "code",
   "execution_count": 4,
   "id": "f2ef37cc-655d-4bc5-bbfb-f3c09237e010",
   "metadata": {},
   "outputs": [
    {
     "data": {
      "text/html": [
       "<div>\n",
       "<style scoped>\n",
       "    .dataframe tbody tr th:only-of-type {\n",
       "        vertical-align: middle;\n",
       "    }\n",
       "\n",
       "    .dataframe tbody tr th {\n",
       "        vertical-align: top;\n",
       "    }\n",
       "\n",
       "    .dataframe thead th {\n",
       "        text-align: right;\n",
       "    }\n",
       "</style>\n",
       "<table border=\"1\" class=\"dataframe\">\n",
       "  <thead>\n",
       "    <tr style=\"text-align: right;\">\n",
       "      <th></th>\n",
       "      <th>date</th>\n",
       "      <th>max_temp</th>\n",
       "    </tr>\n",
       "  </thead>\n",
       "  <tbody>\n",
       "    <tr>\n",
       "      <th>0</th>\n",
       "      <td>2023-01-22</td>\n",
       "      <td>109.0</td>\n",
       "    </tr>\n",
       "  </tbody>\n",
       "</table>\n",
       "</div>"
      ],
      "text/plain": [
       "         date  max_temp\n",
       "0  2023-01-22     109.0"
      ]
     },
     "execution_count": 4,
     "metadata": {},
     "output_type": "execute_result"
    }
   ],
   "source": [
    "query = \"\"\"\n",
    "SELECT date, tmax_f AS max_temp\n",
    "FROM daily_weather\n",
    "ORDER BY tmax_f DESC\n",
    "LIMIT 1;\n",
    "\"\"\"\n",
    "df_max = pd.read_sql(query, conn)\n",
    "df_max\n"
   ]
  },
  {
   "cell_type": "code",
   "execution_count": 5,
   "id": "752c6725-e686-4b1e-bf77-0f26ff9cc12b",
   "metadata": {},
   "outputs": [
    {
     "data": {
      "text/html": [
       "<div>\n",
       "<style scoped>\n",
       "    .dataframe tbody tr th:only-of-type {\n",
       "        vertical-align: middle;\n",
       "    }\n",
       "\n",
       "    .dataframe tbody tr th {\n",
       "        vertical-align: top;\n",
       "    }\n",
       "\n",
       "    .dataframe thead th {\n",
       "        text-align: right;\n",
       "    }\n",
       "</style>\n",
       "<table border=\"1\" class=\"dataframe\">\n",
       "  <thead>\n",
       "    <tr style=\"text-align: right;\">\n",
       "      <th></th>\n",
       "      <th>Date</th>\n",
       "      <th>Max Temperature (°F)</th>\n",
       "      <th>Max Temperature (°C)</th>\n",
       "    </tr>\n",
       "  </thead>\n",
       "  <tbody>\n",
       "    <tr>\n",
       "      <th>0</th>\n",
       "      <td>2023-01-22</td>\n",
       "      <td>109.0 °F</td>\n",
       "      <td>42.8 °C</td>\n",
       "    </tr>\n",
       "  </tbody>\n",
       "</table>\n",
       "</div>"
      ],
      "text/plain": [
       "         Date Max Temperature (°F) Max Temperature (°C)\n",
       "0  2023-01-22             109.0 °F              42.8 °C"
      ]
     },
     "execution_count": 5,
     "metadata": {},
     "output_type": "execute_result"
    }
   ],
   "source": [
    "query = \"\"\"\n",
    "SELECT \n",
    "    date AS \"Date\",\n",
    "    tmax_f || ' °F' AS \"Max Temperature (°F)\",\n",
    "    ROUND((tmax_f - 32) * 5.0/9.0, 1) || ' °C' AS \"Max Temperature (°C)\"\n",
    "FROM daily_weather\n",
    "ORDER BY tmax_f DESC\n",
    "LIMIT 1;\n",
    "\"\"\"\n",
    "df_max = pd.read_sql(query, conn)\n",
    "df_max\n"
   ]
  },
  {
   "cell_type": "markdown",
   "id": "81d3474c-0f43-4de4-a895-dfea606f0300",
   "metadata": {},
   "source": [
    "#### Insight\n",
    "Suhu maksimum tertinggi adalah 109.0 °F (42.8 °C) pada tanggal 22 Januari 2023 (2023-01-22)."
   ]
  },
  {
   "cell_type": "markdown",
   "id": "2ff6ff77-b76d-42d3-8915-6d1b0a1ef524",
   "metadata": {},
   "source": [
    "### Q3 - Suhu minimum terendah & tanggal"
   ]
  },
  {
   "cell_type": "code",
   "execution_count": 6,
   "id": "3d3ed720-8df9-46d8-99a9-f578e5322c09",
   "metadata": {},
   "outputs": [
    {
     "data": {
      "text/html": [
       "<div>\n",
       "<style scoped>\n",
       "    .dataframe tbody tr th:only-of-type {\n",
       "        vertical-align: middle;\n",
       "    }\n",
       "\n",
       "    .dataframe tbody tr th {\n",
       "        vertical-align: top;\n",
       "    }\n",
       "\n",
       "    .dataframe thead th {\n",
       "        text-align: right;\n",
       "    }\n",
       "</style>\n",
       "<table border=\"1\" class=\"dataframe\">\n",
       "  <thead>\n",
       "    <tr style=\"text-align: right;\">\n",
       "      <th></th>\n",
       "      <th>Date</th>\n",
       "      <th>Min Temperature (°F)</th>\n",
       "      <th>Min Temperature (°C)</th>\n",
       "    </tr>\n",
       "  </thead>\n",
       "  <tbody>\n",
       "    <tr>\n",
       "      <th>0</th>\n",
       "      <td>2023-05-09</td>\n",
       "      <td>-88.0 °F</td>\n",
       "      <td>-66.7 °C</td>\n",
       "    </tr>\n",
       "  </tbody>\n",
       "</table>\n",
       "</div>"
      ],
      "text/plain": [
       "         Date Min Temperature (°F) Min Temperature (°C)\n",
       "0  2023-05-09             -88.0 °F             -66.7 °C"
      ]
     },
     "execution_count": 6,
     "metadata": {},
     "output_type": "execute_result"
    }
   ],
   "source": [
    "query = \"\"\"\n",
    "SELECT \n",
    "    date AS \"Date\",\n",
    "    tmin_f || ' °F' AS \"Min Temperature (°F)\",\n",
    "    ROUND((tmin_f - 32) * 5.0/9.0, 1) || ' °C' AS \"Min Temperature (°C)\"\n",
    "FROM daily_weather\n",
    "ORDER BY tmin_f ASC\n",
    "LIMIT 1;\n",
    "\"\"\"\n",
    "\n",
    "df_min = pd.read_sql(query, conn)\n",
    "df_min\n",
    "\n"
   ]
  },
  {
   "cell_type": "markdown",
   "id": "ce2c8661-4ccb-42db-acad-ac17fd61a4df",
   "metadata": {},
   "source": [
    "#### Insight\n",
    "Suhu minimum terendah adalah -88.0 °F (-66.7 °C) pada tanggal 9 Mei 2023 (2023-05-09)."
   ]
  },
  {
   "cell_type": "markdown",
   "id": "e07920ed-1806-415e-a5ca-a79099c76a60",
   "metadata": {},
   "source": [
    "### Q4 - Extreme Heat Days (>90 °F) per Year"
   ]
  },
  {
   "cell_type": "code",
   "execution_count": 7,
   "id": "21ae90e9-4100-483f-aaf2-9f2149b577bd",
   "metadata": {},
   "outputs": [
    {
     "data": {
      "text/html": [
       "<div>\n",
       "<style scoped>\n",
       "    .dataframe tbody tr th:only-of-type {\n",
       "        vertical-align: middle;\n",
       "    }\n",
       "\n",
       "    .dataframe tbody tr th {\n",
       "        vertical-align: top;\n",
       "    }\n",
       "\n",
       "    .dataframe thead th {\n",
       "        text-align: right;\n",
       "    }\n",
       "</style>\n",
       "<table border=\"1\" class=\"dataframe\">\n",
       "  <thead>\n",
       "    <tr style=\"text-align: right;\">\n",
       "      <th></th>\n",
       "      <th>Year</th>\n",
       "      <th>Extreme Heat Days (&gt;90 °F)</th>\n",
       "    </tr>\n",
       "  </thead>\n",
       "  <tbody>\n",
       "    <tr>\n",
       "      <th>0</th>\n",
       "      <td>2023</td>\n",
       "      <td>28</td>\n",
       "    </tr>\n",
       "  </tbody>\n",
       "</table>\n",
       "</div>"
      ],
      "text/plain": [
       "   Year  Extreme Heat Days (>90 °F)\n",
       "0  2023                          28"
      ]
     },
     "execution_count": 7,
     "metadata": {},
     "output_type": "execute_result"
    }
   ],
   "source": [
    "query = \"\"\"\n",
    "SELECT \n",
    "    strftime('%Y', date) AS \"Year\",\n",
    "    COUNT(*) AS \"Extreme Heat Days (>90 °F)\"\n",
    "FROM daily_weather\n",
    "WHERE tmax_f > 90\n",
    "GROUP BY \"Year\"\n",
    "ORDER BY \"Year\";\n",
    "\"\"\"\n",
    "df_heat_sql = pd.read_sql(query, conn)\n",
    "df_heat_sql"
   ]
  },
  {
   "cell_type": "markdown",
   "id": "20cf35c3-a70f-42d3-b720-e23395a188eb",
   "metadata": {},
   "source": [
    "#### Insight\n",
    "Jumlah hari dengan panas ekstrim - temperatur diatas 90 °F (32.22 °C) tercatat sebanyak 28  hari pada tahun 2023."
   ]
  },
  {
   "cell_type": "markdown",
   "id": "d14ec744-8f1c-405c-bd56-3bfd605b0ee5",
   "metadata": {},
   "source": [
    "### Q5 – Extreme Cold Days (<32 °F) per Year"
   ]
  },
  {
   "cell_type": "code",
   "execution_count": 8,
   "id": "5f166de3-de8e-487f-a621-2a6a8a3ab2ea",
   "metadata": {},
   "outputs": [
    {
     "data": {
      "text/html": [
       "<div>\n",
       "<style scoped>\n",
       "    .dataframe tbody tr th:only-of-type {\n",
       "        vertical-align: middle;\n",
       "    }\n",
       "\n",
       "    .dataframe tbody tr th {\n",
       "        vertical-align: top;\n",
       "    }\n",
       "\n",
       "    .dataframe thead th {\n",
       "        text-align: right;\n",
       "    }\n",
       "</style>\n",
       "<table border=\"1\" class=\"dataframe\">\n",
       "  <thead>\n",
       "    <tr style=\"text-align: right;\">\n",
       "      <th></th>\n",
       "      <th>Year</th>\n",
       "      <th>Extreme Cold Days (&lt;32 °F)</th>\n",
       "    </tr>\n",
       "  </thead>\n",
       "  <tbody>\n",
       "    <tr>\n",
       "      <th>0</th>\n",
       "      <td>2023</td>\n",
       "      <td>211</td>\n",
       "    </tr>\n",
       "  </tbody>\n",
       "</table>\n",
       "</div>"
      ],
      "text/plain": [
       "   Year  Extreme Cold Days (<32 °F)\n",
       "0  2023                         211"
      ]
     },
     "execution_count": 8,
     "metadata": {},
     "output_type": "execute_result"
    }
   ],
   "source": [
    "query = \"\"\"\n",
    "SELECT \n",
    "    strftime('%Y', date) AS \"Year\",\n",
    "    COUNT(*) AS \"Extreme Cold Days (<32 °F)\"\n",
    "FROM daily_weather\n",
    "WHERE tmin_f < 32\n",
    "GROUP BY \"Year\"\n",
    "ORDER BY \"Year\";\n",
    "\"\"\"\n",
    "df_cold = pd.read_sql(query, conn)\n",
    "df_cold\n"
   ]
  },
  {
   "cell_type": "markdown",
   "id": "d0236000-b450-4035-aebc-ead353341b59",
   "metadata": {},
   "source": [
    "#### Insight\n",
    "Jumlah hari dengan dingin ekstrim - temperatur dibawah 32 °F (0 °C) tercatat sebanyak 211 hari pada tahun 2023."
   ]
  },
  {
   "cell_type": "code",
   "execution_count": 9,
   "id": "33dac153-e96f-429b-aa24-445f0426799a",
   "metadata": {},
   "outputs": [
    {
     "data": {
      "text/html": [
       "<div>\n",
       "<style scoped>\n",
       "    .dataframe tbody tr th:only-of-type {\n",
       "        vertical-align: middle;\n",
       "    }\n",
       "\n",
       "    .dataframe tbody tr th {\n",
       "        vertical-align: top;\n",
       "    }\n",
       "\n",
       "    .dataframe thead th {\n",
       "        text-align: right;\n",
       "    }\n",
       "</style>\n",
       "<table border=\"1\" class=\"dataframe\">\n",
       "  <thead>\n",
       "    <tr style=\"text-align: right;\">\n",
       "      <th></th>\n",
       "      <th>Year</th>\n",
       "      <th>Extreme Heat Days (&gt;90 °F)</th>\n",
       "      <th>Extreme Cold Days (&lt;32 °F)</th>\n",
       "    </tr>\n",
       "  </thead>\n",
       "  <tbody>\n",
       "    <tr>\n",
       "      <th>0</th>\n",
       "      <td>2023</td>\n",
       "      <td>28</td>\n",
       "      <td>211</td>\n",
       "    </tr>\n",
       "  </tbody>\n",
       "</table>\n",
       "</div>"
      ],
      "text/plain": [
       "   Year  Extreme Heat Days (>90 °F)  Extreme Cold Days (<32 °F)\n",
       "0  2023                          28                         211"
      ]
     },
     "execution_count": 9,
     "metadata": {},
     "output_type": "execute_result"
    }
   ],
   "source": [
    "query = \"\"\"\n",
    "SELECT \n",
    "    strftime('%Y', date) AS \"Year\",\n",
    "    SUM(CASE WHEN tmax_f > 90 THEN 1 ELSE 0 END) AS \"Extreme Heat Days (>90 °F)\",\n",
    "    SUM(CASE WHEN tmin_f < 32 THEN 1 ELSE 0 END) AS \"Extreme Cold Days (<32 °F)\"\n",
    "FROM daily_weather\n",
    "GROUP BY \"Year\"\n",
    "ORDER BY \"Year\";\n",
    "\"\"\"\n",
    "df_heat_cold_sql = pd.read_sql(query, conn)\n",
    "df_heat_cold_sql\n"
   ]
  },
  {
   "cell_type": "markdown",
   "id": "622843d0-ff9f-44a5-bb20-2e7c1d9a7be8",
   "metadata": {},
   "source": [
    "### Q6 – Average Wind Speed per Year"
   ]
  },
  {
   "cell_type": "code",
   "execution_count": 10,
   "id": "3de5c9e3-e3c9-4a88-b829-2fb3efa12fa1",
   "metadata": {},
   "outputs": [
    {
     "data": {
      "text/html": [
       "<div>\n",
       "<style scoped>\n",
       "    .dataframe tbody tr th:only-of-type {\n",
       "        vertical-align: middle;\n",
       "    }\n",
       "\n",
       "    .dataframe tbody tr th {\n",
       "        vertical-align: top;\n",
       "    }\n",
       "\n",
       "    .dataframe thead th {\n",
       "        text-align: right;\n",
       "    }\n",
       "</style>\n",
       "<table border=\"1\" class=\"dataframe\">\n",
       "  <thead>\n",
       "    <tr style=\"text-align: right;\">\n",
       "      <th></th>\n",
       "      <th>Year</th>\n",
       "      <th>Avg Wind Speed (mph)</th>\n",
       "    </tr>\n",
       "  </thead>\n",
       "  <tbody>\n",
       "    <tr>\n",
       "      <th>0</th>\n",
       "      <td>2023</td>\n",
       "      <td>5.15 mph</td>\n",
       "    </tr>\n",
       "  </tbody>\n",
       "</table>\n",
       "</div>"
      ],
      "text/plain": [
       "   Year Avg Wind Speed (mph)\n",
       "0  2023             5.15 mph"
      ]
     },
     "execution_count": 10,
     "metadata": {},
     "output_type": "execute_result"
    }
   ],
   "source": [
    "query = \"\"\"\n",
    "SELECT \n",
    "    strftime('%Y', date) AS \"Year\",\n",
    "    ROUND(AVG(wspd_mph), 2) || ' mph' AS \"Avg Wind Speed (mph)\"\n",
    "FROM daily_weather\n",
    "GROUP BY \"Year\"\n",
    "ORDER BY \"Year\";\n",
    "\"\"\"\n",
    "df_wind = pd.read_sql(query, conn)\n",
    "df_wind\n"
   ]
  },
  {
   "cell_type": "markdown",
   "id": "97cfd130-fed8-49db-ad06-87657b7c8254",
   "metadata": {
    "jp-MarkdownHeadingCollapsed": true
   },
   "source": [
    "#### Insight\n",
    "Rata-rata kecepatan angin dalam mph (miles per hour) tahun 2023 adalah 5.15 mph."
   ]
  },
  {
   "cell_type": "markdown",
   "id": "9d5f3470-e11d-4604-8337-639233f6cef4",
   "metadata": {},
   "source": [
    "### Q7 – Days with Wind > 20 mph"
   ]
  },
  {
   "cell_type": "code",
   "execution_count": 11,
   "id": "b6c4dd11-c3c3-4af3-b4d2-c461de3cf45a",
   "metadata": {},
   "outputs": [
    {
     "data": {
      "text/html": [
       "<div>\n",
       "<style scoped>\n",
       "    .dataframe tbody tr th:only-of-type {\n",
       "        vertical-align: middle;\n",
       "    }\n",
       "\n",
       "    .dataframe tbody tr th {\n",
       "        vertical-align: top;\n",
       "    }\n",
       "\n",
       "    .dataframe thead th {\n",
       "        text-align: right;\n",
       "    }\n",
       "</style>\n",
       "<table border=\"1\" class=\"dataframe\">\n",
       "  <thead>\n",
       "    <tr style=\"text-align: right;\">\n",
       "      <th></th>\n",
       "      <th>Days with Wind &gt;20 mph</th>\n",
       "    </tr>\n",
       "  </thead>\n",
       "  <tbody>\n",
       "    <tr>\n",
       "      <th>0</th>\n",
       "      <td>105</td>\n",
       "    </tr>\n",
       "  </tbody>\n",
       "</table>\n",
       "</div>"
      ],
      "text/plain": [
       "   Days with Wind >20 mph\n",
       "0                     105"
      ]
     },
     "execution_count": 11,
     "metadata": {},
     "output_type": "execute_result"
    }
   ],
   "source": [
    "query = \"\"\"\n",
    "SELECT \n",
    "    COUNT(*) AS \"Days with Wind >20 mph\"\n",
    "FROM daily_weather\n",
    "WHERE wspd_mph > 20;\n",
    "\"\"\"\n",
    "df_high_wind = pd.read_sql(query, conn)\n",
    "df_high_wind\n"
   ]
  },
  {
   "cell_type": "markdown",
   "id": "753b0f0b-2369-4c0c-8841-06e1ea3c8195",
   "metadata": {},
   "source": [
    "#### Extreme Heat (>90 °F), Cold (<32 °F) & Windy Days (> 20 mph) per Month - SQL"
   ]
  },
  {
   "cell_type": "code",
   "execution_count": 12,
   "id": "7264bed4-319e-4ccc-85b7-98d1f316ad67",
   "metadata": {},
   "outputs": [
    {
     "data": {
      "text/html": [
       "<div>\n",
       "<style scoped>\n",
       "    .dataframe tbody tr th:only-of-type {\n",
       "        vertical-align: middle;\n",
       "    }\n",
       "\n",
       "    .dataframe tbody tr th {\n",
       "        vertical-align: top;\n",
       "    }\n",
       "\n",
       "    .dataframe thead th {\n",
       "        text-align: right;\n",
       "    }\n",
       "</style>\n",
       "<table border=\"1\" class=\"dataframe\">\n",
       "  <thead>\n",
       "    <tr style=\"text-align: right;\">\n",
       "      <th></th>\n",
       "      <th>year_month</th>\n",
       "      <th>extreme_heat_days</th>\n",
       "      <th>extreme_cold_days</th>\n",
       "      <th>extreme_windy_days</th>\n",
       "    </tr>\n",
       "  </thead>\n",
       "  <tbody>\n",
       "    <tr>\n",
       "      <th>0</th>\n",
       "      <td>2023-01</td>\n",
       "      <td>4</td>\n",
       "      <td>13</td>\n",
       "      <td>7</td>\n",
       "    </tr>\n",
       "    <tr>\n",
       "      <th>1</th>\n",
       "      <td>2023-02</td>\n",
       "      <td>1</td>\n",
       "      <td>13</td>\n",
       "      <td>8</td>\n",
       "    </tr>\n",
       "    <tr>\n",
       "      <th>2</th>\n",
       "      <td>2023-03</td>\n",
       "      <td>2</td>\n",
       "      <td>17</td>\n",
       "      <td>11</td>\n",
       "    </tr>\n",
       "    <tr>\n",
       "      <th>3</th>\n",
       "      <td>2023-04</td>\n",
       "      <td>2</td>\n",
       "      <td>18</td>\n",
       "      <td>7</td>\n",
       "    </tr>\n",
       "    <tr>\n",
       "      <th>4</th>\n",
       "      <td>2023-05</td>\n",
       "      <td>3</td>\n",
       "      <td>20</td>\n",
       "      <td>8</td>\n",
       "    </tr>\n",
       "    <tr>\n",
       "      <th>5</th>\n",
       "      <td>2023-06</td>\n",
       "      <td>1</td>\n",
       "      <td>16</td>\n",
       "      <td>10</td>\n",
       "    </tr>\n",
       "    <tr>\n",
       "      <th>6</th>\n",
       "      <td>2023-07</td>\n",
       "      <td>6</td>\n",
       "      <td>18</td>\n",
       "      <td>10</td>\n",
       "    </tr>\n",
       "    <tr>\n",
       "      <th>7</th>\n",
       "      <td>2023-08</td>\n",
       "      <td>2</td>\n",
       "      <td>17</td>\n",
       "      <td>5</td>\n",
       "    </tr>\n",
       "    <tr>\n",
       "      <th>8</th>\n",
       "      <td>2023-09</td>\n",
       "      <td>2</td>\n",
       "      <td>20</td>\n",
       "      <td>8</td>\n",
       "    </tr>\n",
       "    <tr>\n",
       "      <th>9</th>\n",
       "      <td>2023-10</td>\n",
       "      <td>4</td>\n",
       "      <td>23</td>\n",
       "      <td>9</td>\n",
       "    </tr>\n",
       "    <tr>\n",
       "      <th>10</th>\n",
       "      <td>2023-11</td>\n",
       "      <td>0</td>\n",
       "      <td>17</td>\n",
       "      <td>11</td>\n",
       "    </tr>\n",
       "    <tr>\n",
       "      <th>11</th>\n",
       "      <td>2023-12</td>\n",
       "      <td>1</td>\n",
       "      <td>19</td>\n",
       "      <td>11</td>\n",
       "    </tr>\n",
       "  </tbody>\n",
       "</table>\n",
       "</div>"
      ],
      "text/plain": [
       "   year_month  extreme_heat_days  extreme_cold_days  extreme_windy_days\n",
       "0     2023-01                  4                 13                   7\n",
       "1     2023-02                  1                 13                   8\n",
       "2     2023-03                  2                 17                  11\n",
       "3     2023-04                  2                 18                   7\n",
       "4     2023-05                  3                 20                   8\n",
       "5     2023-06                  1                 16                  10\n",
       "6     2023-07                  6                 18                  10\n",
       "7     2023-08                  2                 17                   5\n",
       "8     2023-09                  2                 20                   8\n",
       "9     2023-10                  4                 23                   9\n",
       "10    2023-11                  0                 17                  11\n",
       "11    2023-12                  1                 19                  11"
      ]
     },
     "execution_count": 12,
     "metadata": {},
     "output_type": "execute_result"
    }
   ],
   "source": [
    "query = \"\"\"\n",
    "SELECT\n",
    "    strftime('%Y-%m', date) AS year_month,\n",
    "    COUNT(CASE WHEN tmax_f > 90 THEN 1 END) AS extreme_heat_days,\n",
    "    COUNT(CASE WHEN tmin_f < 32 THEN 1 END) AS extreme_cold_days,\n",
    "    COUNT(CASE WHEN wspd_mph > 20 THEN 1 END) AS extreme_windy_days\n",
    "FROM daily_weather\n",
    "GROUP BY year_month\n",
    "ORDER BY year_month;\n",
    "\"\"\"\n",
    "df_heat_cold_windy_month_sql = pd.read_sql(query, conn) \n",
    "df_heat_cold_windy_month_sql"
   ]
  },
  {
   "cell_type": "markdown",
   "id": "5c76473a-01c5-4076-a405-c71e50b35297",
   "metadata": {
    "jp-MarkdownHeadingCollapsed": true
   },
   "source": [
    "#### Insight\n",
    "Jumlah hari dengan kecepatan angin di atas 20 mph (miles per hour) tahun 2023 adalah 105 hari."
   ]
  },
  {
   "cell_type": "markdown",
   "id": "df55fd34-1de3-4fa6-9747-a386656c4075",
   "metadata": {},
   "source": [
    "### Q8 – Extreme Weather Days per Year"
   ]
  },
  {
   "cell_type": "code",
   "execution_count": 13,
   "id": "9a8d3f9f-edc0-46d4-872f-4d9612afc76a",
   "metadata": {},
   "outputs": [
    {
     "data": {
      "text/html": [
       "<div>\n",
       "<style scoped>\n",
       "    .dataframe tbody tr th:only-of-type {\n",
       "        vertical-align: middle;\n",
       "    }\n",
       "\n",
       "    .dataframe tbody tr th {\n",
       "        vertical-align: top;\n",
       "    }\n",
       "\n",
       "    .dataframe thead th {\n",
       "        text-align: right;\n",
       "    }\n",
       "</style>\n",
       "<table border=\"1\" class=\"dataframe\">\n",
       "  <thead>\n",
       "    <tr style=\"text-align: right;\">\n",
       "      <th></th>\n",
       "      <th>Year</th>\n",
       "      <th>Extreme Weather Days</th>\n",
       "    </tr>\n",
       "  </thead>\n",
       "  <tbody>\n",
       "    <tr>\n",
       "      <th>0</th>\n",
       "      <td>2023</td>\n",
       "      <td>265</td>\n",
       "    </tr>\n",
       "  </tbody>\n",
       "</table>\n",
       "</div>"
      ],
      "text/plain": [
       "   Year  Extreme Weather Days\n",
       "0  2023                   265"
      ]
     },
     "execution_count": 13,
     "metadata": {},
     "output_type": "execute_result"
    }
   ],
   "source": [
    "query = \"\"\"\n",
    "SELECT \n",
    "    strftime('%Y', date) AS \"Year\",\n",
    "    COUNT(*) AS \"Extreme Weather Days\"\n",
    "FROM daily_weather\n",
    "WHERE tmax_f > 90 OR tmin_f < 32 OR wspd_mph > 20\n",
    "GROUP BY \"Year\"\n",
    "ORDER BY \"Year\";\n",
    "\"\"\"\n",
    "df_extreme = pd.read_sql(query, conn)\n",
    "df_extreme\n"
   ]
  },
  {
   "cell_type": "markdown",
   "id": "b18facce-037c-42e7-8c3a-33293da693c3",
   "metadata": {
    "jp-MarkdownHeadingCollapsed": true
   },
   "source": [
    "#### Insight\n",
    "Jumlah hari dengan cuaca ekstrim tahun 2023 adalah 265 hari.  \n",
    "**Kriteria cuaca ekstrim:**\n",
    "1. Temperatur diatas 90 °F (32.22 °C)\n",
    "2. Temperatur dibawah 32 °F (0 °C)\n",
    "3. Kecepatan angin di atas 20 mph (miles per hour)"
   ]
  },
  {
   "cell_type": "markdown",
   "id": "a9ec029d-6a1c-4079-9ad0-37f0363ffbac",
   "metadata": {},
   "source": [
    "### Q9 – Month with Highest Extreme Weather Days"
   ]
  },
  {
   "cell_type": "code",
   "execution_count": 14,
   "id": "188e6312-b591-47b5-93e1-77cb6db09707",
   "metadata": {},
   "outputs": [
    {
     "data": {
      "text/html": [
       "<div>\n",
       "<style scoped>\n",
       "    .dataframe tbody tr th:only-of-type {\n",
       "        vertical-align: middle;\n",
       "    }\n",
       "\n",
       "    .dataframe tbody tr th {\n",
       "        vertical-align: top;\n",
       "    }\n",
       "\n",
       "    .dataframe thead th {\n",
       "        text-align: right;\n",
       "    }\n",
       "</style>\n",
       "<table border=\"1\" class=\"dataframe\">\n",
       "  <thead>\n",
       "    <tr style=\"text-align: right;\">\n",
       "      <th></th>\n",
       "      <th>Year-Month</th>\n",
       "      <th>Extreme Weather Days</th>\n",
       "    </tr>\n",
       "  </thead>\n",
       "  <tbody>\n",
       "    <tr>\n",
       "      <th>0</th>\n",
       "      <td>2023-10</td>\n",
       "      <td>28</td>\n",
       "    </tr>\n",
       "  </tbody>\n",
       "</table>\n",
       "</div>"
      ],
      "text/plain": [
       "  Year-Month  Extreme Weather Days\n",
       "0    2023-10                    28"
      ]
     },
     "execution_count": 14,
     "metadata": {},
     "output_type": "execute_result"
    }
   ],
   "source": [
    "query = \"\"\"\n",
    "SELECT \n",
    "    strftime('%Y-%m', date) AS \"Year-Month\",\n",
    "    COUNT(*) AS \"Extreme Weather Days\"\n",
    "FROM daily_weather\n",
    "WHERE tmax_f > 90 OR tmin_f < 32 OR wspd_mph > 20\n",
    "GROUP BY \"Year-Month\"\n",
    "ORDER BY \"Extreme Weather Days\" DESC\n",
    "LIMIT 1;\n",
    "\"\"\"\n",
    "df_extreme_month = pd.read_sql(query, conn)\n",
    "df_extreme_month\n"
   ]
  },
  {
   "cell_type": "markdown",
   "id": "fb867580-e9f4-43ed-9781-b9f45d4c8060",
   "metadata": {
    "jp-MarkdownHeadingCollapsed": true
   },
   "source": [
    "#### Insight\n",
    "Bulan dengan cuaca paling ekstrim tahun 2023 adalah bulan **Oktober** dengan **28 hari** terjadi cuaca ekstrim.  \n",
    "**Kriteria cuaca ekstrim:**\n",
    "1. Temperatur diatas 90 °F (32.22 °C)\n",
    "2. Temperatur dibawah 32 °F (0 °C)\n",
    "3. Kecepatan angin di atas 20 mph (miles per hour)"
   ]
  },
  {
   "cell_type": "markdown",
   "id": "69f2c046-926d-437c-bece-9f8fe3424a9b",
   "metadata": {},
   "source": [
    "### Q10 – Percentage of Extreme Weather Days"
   ]
  },
  {
   "cell_type": "code",
   "execution_count": 15,
   "id": "28f1c782-1243-4edc-bf40-dbdf168d3172",
   "metadata": {},
   "outputs": [
    {
     "data": {
      "text/html": [
       "<div>\n",
       "<style scoped>\n",
       "    .dataframe tbody tr th:only-of-type {\n",
       "        vertical-align: middle;\n",
       "    }\n",
       "\n",
       "    .dataframe tbody tr th {\n",
       "        vertical-align: top;\n",
       "    }\n",
       "\n",
       "    .dataframe thead th {\n",
       "        text-align: right;\n",
       "    }\n",
       "</style>\n",
       "<table border=\"1\" class=\"dataframe\">\n",
       "  <thead>\n",
       "    <tr style=\"text-align: right;\">\n",
       "      <th></th>\n",
       "      <th>Total Days</th>\n",
       "      <th>Extreme Weather Days</th>\n",
       "      <th>Extreme Days (%)</th>\n",
       "    </tr>\n",
       "  </thead>\n",
       "  <tbody>\n",
       "    <tr>\n",
       "      <th>0</th>\n",
       "      <td>370</td>\n",
       "      <td>265</td>\n",
       "      <td>71.62%</td>\n",
       "    </tr>\n",
       "  </tbody>\n",
       "</table>\n",
       "</div>"
      ],
      "text/plain": [
       "   Total Days  Extreme Weather Days Extreme Days (%)\n",
       "0         370                   265           71.62%"
      ]
     },
     "execution_count": 15,
     "metadata": {},
     "output_type": "execute_result"
    }
   ],
   "source": [
    "query = \"\"\"\n",
    "WITH total_days AS (\n",
    "    SELECT COUNT(*) AS total FROM daily_weather\n",
    "),\n",
    "extreme_days AS (\n",
    "    SELECT COUNT(*) AS extreme\n",
    "    FROM daily_weather\n",
    "    WHERE tmax_f > 90 OR tmin_f < 32 OR wspd_mph > 20\n",
    ")\n",
    "SELECT \n",
    "    total AS \"Total Days\",\n",
    "    extreme AS \"Extreme Weather Days\",\n",
    "    ROUND(100.0 * extreme / total, 2) || '%' AS \"Extreme Days (%)\"\n",
    "FROM total_days, extreme_days;\n",
    "\"\"\"\n",
    "df_extreme_pct = pd.read_sql(query, conn)\n",
    "df_extreme_pct\n"
   ]
  },
  {
   "cell_type": "markdown",
   "id": "1ba16031-2dab-47b4-aafa-9c69a8c886c8",
   "metadata": {},
   "source": [
    "#### Insight\n",
    "Persentase jumlah hari dengan cuaca ekstrim tahun 2023 adalah **71,62%** dengan **265 hari** terjadi cuaca ekstrim dari total **370 hari** pengamatan.  \n",
    "**Kriteria cuaca ekstrim:**\n",
    "1. Temperatur diatas 90 °F (32.22 °C)\n",
    "2. Temperatur dibawah 32 °F (0 °C)\n",
    "3. Kecepatan angin di atas 20 mph (miles per hour)"
   ]
  },
  {
   "cell_type": "markdown",
   "id": "d7ef5872-1f3d-4331-8b78-d0c3446971c8",
   "metadata": {},
   "source": [
    "## Visualisasi with PANDAS"
   ]
  },
  {
   "cell_type": "code",
   "execution_count": 16,
   "id": "0c8ff2b6-4273-4ced-8e84-e500aa3ace96",
   "metadata": {},
   "outputs": [],
   "source": [
    "import pandas as pd\n",
    "import matplotlib.pyplot as plt\n",
    "import seaborn as sns\n",
    "import sqlite3\n",
    "import datetime as dt\n",
    "\n",
    "sns.set(style=\"whitegrid\")"
   ]
  },
  {
   "cell_type": "code",
   "execution_count": 17,
   "id": "92ddc0b1-16c6-4373-8b4d-cb5d4780d39b",
   "metadata": {
    "scrolled": true
   },
   "outputs": [
    {
     "name": "stdout",
     "output_type": "stream",
     "text": [
      "Tabel-tabel dalam database 'Weather.db':\n",
      "stations\n",
      "sqlite_sequence\n",
      "daily_weather\n",
      "thresholds\n",
      "Koneksi database ditutup.\n"
     ]
    }
   ],
   "source": [
    "#Cek nama tables dalam database\n",
    "\n",
    "db_file = \"Weather.db\"  # Path \n",
    "\n",
    "try:\n",
    "    conn = sqlite3.connect(db_file)\n",
    "    cursor = conn.cursor()\n",
    "\n",
    "    # Execute a query to get the list of tables\n",
    "    cursor.execute(\"SELECT name FROM sqlite_master WHERE type='table';\")\n",
    "    tables = cursor.fetchall()\n",
    "\n",
    "    if tables:\n",
    "        print(f\"Tabel-tabel dalam database '{db_file}':\")\n",
    "        for table in tables:\n",
    "            print(table[0])  # Print the table name\n",
    "    else:\n",
    "        print(f\"Tidak ada tabel yang ditemukan dalam database '{db_file}'.\")\n",
    "\n",
    "except sqlite3.Error as e:\n",
    "    print(f\"Terjadi kesalahan database: {e}\")\n",
    "\n",
    "finally:\n",
    "    if conn:\n",
    "        conn.close()\n",
    "        print(\"Koneksi database ditutup.\")"
   ]
  },
  {
   "cell_type": "code",
   "execution_count": 18,
   "id": "a4684bdb-f42b-4047-8f46-7f3c9ee8ca85",
   "metadata": {},
   "outputs": [
    {
     "name": "stdout",
     "output_type": "stream",
     "text": [
      "Datasets loaded successfully!\n",
      "Database connection closed.\n"
     ]
    }
   ],
   "source": [
    "# Database path untuk koneksi di jupyter notebook\n",
    "db_file = \"Weather.db\"  # Path \n",
    "\n",
    "# Connect to Database and Load Data\n",
    "conn = None  # Initialize conn outside the try block\n",
    "try:\n",
    "    conn = sqlite3.connect(db_file)\n",
    "    \n",
    "    # Load DataFrames\n",
    "    stations = pd.read_sql(\"SELECT * FROM stations\", conn)\n",
    "    sqlite_sequence = pd.read_sql(\"SELECT * FROM sqlite_sequence\", conn)\n",
    "    daily_weather = pd.read_sql(\"SELECT * FROM daily_weather\", conn)\n",
    "    thresholds = pd.read_sql(\"SELECT * FROM thresholds\", conn)\n",
    "\n",
    "    print(\"Datasets loaded successfully!\")\n",
    "\n",
    "except sqlite3.Error as e:\n",
    "    print(f\"Database error: {e}\")\n",
    "\n",
    "finally:\n",
    "    if conn:\n",
    "        conn.close()\n",
    "        print(\"Database connection closed.\")"
   ]
  },
  {
   "cell_type": "code",
   "execution_count": 19,
   "id": "d47c51e7-3775-4f37-b0ba-9d2e32a19938",
   "metadata": {},
   "outputs": [
    {
     "data": {
      "text/html": [
       "<div>\n",
       "<style scoped>\n",
       "    .dataframe tbody tr th:only-of-type {\n",
       "        vertical-align: middle;\n",
       "    }\n",
       "\n",
       "    .dataframe tbody tr th {\n",
       "        vertical-align: top;\n",
       "    }\n",
       "\n",
       "    .dataframe thead th {\n",
       "        text-align: right;\n",
       "    }\n",
       "</style>\n",
       "<table border=\"1\" class=\"dataframe\">\n",
       "  <thead>\n",
       "    <tr style=\"text-align: right;\">\n",
       "      <th></th>\n",
       "      <th>station_id</th>\n",
       "      <th>name</th>\n",
       "      <th>latitude</th>\n",
       "      <th>longitude</th>\n",
       "      <th>elevation</th>\n",
       "    </tr>\n",
       "  </thead>\n",
       "  <tbody>\n",
       "    <tr>\n",
       "      <th>0</th>\n",
       "      <td>1</td>\n",
       "      <td>Sample Station</td>\n",
       "      <td>40.7128</td>\n",
       "      <td>-74.006</td>\n",
       "      <td>10.0</td>\n",
       "    </tr>\n",
       "  </tbody>\n",
       "</table>\n",
       "</div>"
      ],
      "text/plain": [
       "   station_id            name  latitude  longitude  elevation\n",
       "0           1  Sample Station   40.7128    -74.006       10.0"
      ]
     },
     "metadata": {},
     "output_type": "display_data"
    },
    {
     "name": "stdout",
     "output_type": "stream",
     "text": [
      "<class 'pandas.core.frame.DataFrame'>\n",
      "RangeIndex: 1 entries, 0 to 0\n",
      "Data columns (total 5 columns):\n",
      " #   Column      Non-Null Count  Dtype  \n",
      "---  ------      --------------  -----  \n",
      " 0   station_id  1 non-null      int64  \n",
      " 1   name        1 non-null      object \n",
      " 2   latitude    1 non-null      float64\n",
      " 3   longitude   1 non-null      float64\n",
      " 4   elevation   1 non-null      float64\n",
      "dtypes: float64(3), int64(1), object(1)\n",
      "memory usage: 172.0+ bytes\n"
     ]
    }
   ],
   "source": [
    "display(stations)\n",
    "stations.info()"
   ]
  },
  {
   "cell_type": "code",
   "execution_count": 20,
   "id": "39d26205-701d-44f2-aa72-2a9f3a7af1f5",
   "metadata": {},
   "outputs": [
    {
     "data": {
      "text/html": [
       "<div>\n",
       "<style scoped>\n",
       "    .dataframe tbody tr th:only-of-type {\n",
       "        vertical-align: middle;\n",
       "    }\n",
       "\n",
       "    .dataframe tbody tr th {\n",
       "        vertical-align: top;\n",
       "    }\n",
       "\n",
       "    .dataframe thead th {\n",
       "        text-align: right;\n",
       "    }\n",
       "</style>\n",
       "<table border=\"1\" class=\"dataframe\">\n",
       "  <thead>\n",
       "    <tr style=\"text-align: right;\">\n",
       "      <th></th>\n",
       "      <th>weather_id</th>\n",
       "      <th>station_id</th>\n",
       "      <th>date</th>\n",
       "      <th>tmax_f</th>\n",
       "      <th>tmin_f</th>\n",
       "      <th>wspd_mph</th>\n",
       "      <th>precipitation_in</th>\n",
       "    </tr>\n",
       "  </thead>\n",
       "  <tbody>\n",
       "    <tr>\n",
       "      <th>9</th>\n",
       "      <td>10</td>\n",
       "      <td>1</td>\n",
       "      <td>2023-01-05</td>\n",
       "      <td>-40.0</td>\n",
       "      <td>33.0</td>\n",
       "      <td>-12.0</td>\n",
       "      <td>-0.7</td>\n",
       "    </tr>\n",
       "    <tr>\n",
       "      <th>27</th>\n",
       "      <td>28</td>\n",
       "      <td>1</td>\n",
       "      <td>2023-01-23</td>\n",
       "      <td>-8.0</td>\n",
       "      <td>98.0</td>\n",
       "      <td>18.0</td>\n",
       "      <td>-0.2</td>\n",
       "    </tr>\n",
       "  </tbody>\n",
       "</table>\n",
       "</div>"
      ],
      "text/plain": [
       "    weather_id  station_id        date  tmax_f  tmin_f  wspd_mph  \\\n",
       "9           10           1  2023-01-05   -40.0    33.0     -12.0   \n",
       "27          28           1  2023-01-23    -8.0    98.0      18.0   \n",
       "\n",
       "    precipitation_in  \n",
       "9               -0.7  \n",
       "27              -0.2  "
      ]
     },
     "metadata": {},
     "output_type": "display_data"
    },
    {
     "name": "stdout",
     "output_type": "stream",
     "text": [
      "<class 'pandas.core.frame.DataFrame'>\n",
      "RangeIndex: 370 entries, 0 to 369\n",
      "Data columns (total 7 columns):\n",
      " #   Column            Non-Null Count  Dtype  \n",
      "---  ------            --------------  -----  \n",
      " 0   weather_id        370 non-null    int64  \n",
      " 1   station_id        370 non-null    int64  \n",
      " 2   date              370 non-null    object \n",
      " 3   tmax_f            370 non-null    float64\n",
      " 4   tmin_f            370 non-null    float64\n",
      " 5   wspd_mph          370 non-null    float64\n",
      " 6   precipitation_in  370 non-null    float64\n",
      "dtypes: float64(4), int64(2), object(1)\n",
      "memory usage: 20.4+ KB\n"
     ]
    }
   ],
   "source": [
    "display(daily_weather.sample(2))\n",
    "daily_weather.info()"
   ]
  },
  {
   "cell_type": "code",
   "execution_count": 21,
   "id": "e6be8b13-63c9-47ad-a7b2-cb3c07e54385",
   "metadata": {},
   "outputs": [
    {
     "data": {
      "text/html": [
       "<div>\n",
       "<style scoped>\n",
       "    .dataframe tbody tr th:only-of-type {\n",
       "        vertical-align: middle;\n",
       "    }\n",
       "\n",
       "    .dataframe tbody tr th {\n",
       "        vertical-align: top;\n",
       "    }\n",
       "\n",
       "    .dataframe thead th {\n",
       "        text-align: right;\n",
       "    }\n",
       "</style>\n",
       "<table border=\"1\" class=\"dataframe\">\n",
       "  <thead>\n",
       "    <tr style=\"text-align: right;\">\n",
       "      <th></th>\n",
       "      <th>threshold_id</th>\n",
       "      <th>name</th>\n",
       "      <th>variable</th>\n",
       "      <th>operator</th>\n",
       "      <th>value</th>\n",
       "      <th>unit</th>\n",
       "    </tr>\n",
       "  </thead>\n",
       "  <tbody>\n",
       "    <tr>\n",
       "      <th>0</th>\n",
       "      <td>1</td>\n",
       "      <td>Hot Day</td>\n",
       "      <td>tmax_f</td>\n",
       "      <td>&gt;</td>\n",
       "      <td>90.0</td>\n",
       "      <td>°F</td>\n",
       "    </tr>\n",
       "    <tr>\n",
       "      <th>1</th>\n",
       "      <td>2</td>\n",
       "      <td>Cold Day</td>\n",
       "      <td>tmin_f</td>\n",
       "      <td>&lt;</td>\n",
       "      <td>32.0</td>\n",
       "      <td>°F</td>\n",
       "    </tr>\n",
       "    <tr>\n",
       "      <th>2</th>\n",
       "      <td>3</td>\n",
       "      <td>Windy Day</td>\n",
       "      <td>wspd_mph</td>\n",
       "      <td>&gt;</td>\n",
       "      <td>20.0</td>\n",
       "      <td>mph</td>\n",
       "    </tr>\n",
       "  </tbody>\n",
       "</table>\n",
       "</div>"
      ],
      "text/plain": [
       "   threshold_id       name  variable operator  value unit\n",
       "0             1    Hot Day    tmax_f        >   90.0   °F\n",
       "1             2   Cold Day    tmin_f        <   32.0   °F\n",
       "2             3  Windy Day  wspd_mph        >   20.0  mph"
      ]
     },
     "execution_count": 21,
     "metadata": {},
     "output_type": "execute_result"
    }
   ],
   "source": [
    "thresholds"
   ]
  },
  {
   "cell_type": "code",
   "execution_count": 24,
   "id": "6b72a9e6-0bdd-454c-be3a-4d8f994e7bf0",
   "metadata": {},
   "outputs": [
    {
     "data": {
      "text/html": [
       "<div>\n",
       "<style scoped>\n",
       "    .dataframe tbody tr th:only-of-type {\n",
       "        vertical-align: middle;\n",
       "    }\n",
       "\n",
       "    .dataframe tbody tr th {\n",
       "        vertical-align: top;\n",
       "    }\n",
       "\n",
       "    .dataframe thead th {\n",
       "        text-align: right;\n",
       "    }\n",
       "</style>\n",
       "<table border=\"1\" class=\"dataframe\">\n",
       "  <thead>\n",
       "    <tr style=\"text-align: right;\">\n",
       "      <th></th>\n",
       "      <th>weather_id</th>\n",
       "      <th>station_id</th>\n",
       "      <th>date</th>\n",
       "      <th>tmax_f</th>\n",
       "      <th>tmin_f</th>\n",
       "      <th>wspd_mph</th>\n",
       "      <th>precipitation_in</th>\n",
       "    </tr>\n",
       "  </thead>\n",
       "  <tbody>\n",
       "    <tr>\n",
       "      <th>0</th>\n",
       "      <td>1</td>\n",
       "      <td>1</td>\n",
       "      <td>2023-07-01</td>\n",
       "      <td>95.2</td>\n",
       "      <td>75.1</td>\n",
       "      <td>12.0</td>\n",
       "      <td>0.00</td>\n",
       "    </tr>\n",
       "    <tr>\n",
       "      <th>1</th>\n",
       "      <td>2</td>\n",
       "      <td>1</td>\n",
       "      <td>2023-07-02</td>\n",
       "      <td>88.5</td>\n",
       "      <td>70.3</td>\n",
       "      <td>8.5</td>\n",
       "      <td>0.10</td>\n",
       "    </tr>\n",
       "    <tr>\n",
       "      <th>2</th>\n",
       "      <td>3</td>\n",
       "      <td>1</td>\n",
       "      <td>2023-07-03</td>\n",
       "      <td>92.0</td>\n",
       "      <td>71.0</td>\n",
       "      <td>21.3</td>\n",
       "      <td>0.00</td>\n",
       "    </tr>\n",
       "    <tr>\n",
       "      <th>3</th>\n",
       "      <td>4</td>\n",
       "      <td>1</td>\n",
       "      <td>2023-07-04</td>\n",
       "      <td>85.6</td>\n",
       "      <td>65.2</td>\n",
       "      <td>15.8</td>\n",
       "      <td>0.00</td>\n",
       "    </tr>\n",
       "    <tr>\n",
       "      <th>4</th>\n",
       "      <td>5</td>\n",
       "      <td>1</td>\n",
       "      <td>2023-07-05</td>\n",
       "      <td>97.1</td>\n",
       "      <td>77.0</td>\n",
       "      <td>10.2</td>\n",
       "      <td>0.05</td>\n",
       "    </tr>\n",
       "    <tr>\n",
       "      <th>...</th>\n",
       "      <td>...</td>\n",
       "      <td>...</td>\n",
       "      <td>...</td>\n",
       "      <td>...</td>\n",
       "      <td>...</td>\n",
       "      <td>...</td>\n",
       "      <td>...</td>\n",
       "    </tr>\n",
       "    <tr>\n",
       "      <th>365</th>\n",
       "      <td>366</td>\n",
       "      <td>1</td>\n",
       "      <td>2023-12-27</td>\n",
       "      <td>-31.0</td>\n",
       "      <td>0.0</td>\n",
       "      <td>16.0</td>\n",
       "      <td>-0.75</td>\n",
       "    </tr>\n",
       "    <tr>\n",
       "      <th>366</th>\n",
       "      <td>367</td>\n",
       "      <td>1</td>\n",
       "      <td>2023-12-28</td>\n",
       "      <td>28.0</td>\n",
       "      <td>17.0</td>\n",
       "      <td>37.0</td>\n",
       "      <td>0.75</td>\n",
       "    </tr>\n",
       "    <tr>\n",
       "      <th>367</th>\n",
       "      <td>368</td>\n",
       "      <td>1</td>\n",
       "      <td>2023-12-29</td>\n",
       "      <td>-36.0</td>\n",
       "      <td>29.0</td>\n",
       "      <td>-18.0</td>\n",
       "      <td>0.05</td>\n",
       "    </tr>\n",
       "    <tr>\n",
       "      <th>368</th>\n",
       "      <td>369</td>\n",
       "      <td>1</td>\n",
       "      <td>2023-12-30</td>\n",
       "      <td>-28.0</td>\n",
       "      <td>-39.0</td>\n",
       "      <td>32.0</td>\n",
       "      <td>0.45</td>\n",
       "    </tr>\n",
       "    <tr>\n",
       "      <th>369</th>\n",
       "      <td>370</td>\n",
       "      <td>1</td>\n",
       "      <td>2023-12-31</td>\n",
       "      <td>-18.0</td>\n",
       "      <td>-49.0</td>\n",
       "      <td>34.0</td>\n",
       "      <td>0.20</td>\n",
       "    </tr>\n",
       "  </tbody>\n",
       "</table>\n",
       "<p>370 rows × 7 columns</p>\n",
       "</div>"
      ],
      "text/plain": [
       "     weather_id  station_id        date  tmax_f  tmin_f  wspd_mph  \\\n",
       "0             1           1  2023-07-01    95.2    75.1      12.0   \n",
       "1             2           1  2023-07-02    88.5    70.3       8.5   \n",
       "2             3           1  2023-07-03    92.0    71.0      21.3   \n",
       "3             4           1  2023-07-04    85.6    65.2      15.8   \n",
       "4             5           1  2023-07-05    97.1    77.0      10.2   \n",
       "..          ...         ...         ...     ...     ...       ...   \n",
       "365         366           1  2023-12-27   -31.0     0.0      16.0   \n",
       "366         367           1  2023-12-28    28.0    17.0      37.0   \n",
       "367         368           1  2023-12-29   -36.0    29.0     -18.0   \n",
       "368         369           1  2023-12-30   -28.0   -39.0      32.0   \n",
       "369         370           1  2023-12-31   -18.0   -49.0      34.0   \n",
       "\n",
       "     precipitation_in  \n",
       "0                0.00  \n",
       "1                0.10  \n",
       "2                0.00  \n",
       "3                0.00  \n",
       "4                0.05  \n",
       "..                ...  \n",
       "365             -0.75  \n",
       "366              0.75  \n",
       "367              0.05  \n",
       "368              0.45  \n",
       "369              0.20  \n",
       "\n",
       "[370 rows x 7 columns]"
      ]
     },
     "execution_count": 24,
     "metadata": {},
     "output_type": "execute_result"
    }
   ],
   "source": [
    "daily_weather"
   ]
  },
  {
   "cell_type": "markdown",
   "id": "0435d137-e847-49fa-bdba-ad9caf6eb954",
   "metadata": {},
   "source": [
    "#### Extreme Heat (>90 °F), Cold (<32 °F) & Windy Days (> 20 mph) per Month - PANDAS"
   ]
  },
  {
   "cell_type": "code",
   "execution_count": 34,
   "id": "2fd059bb-1226-4004-ac0a-88409ba77b97",
   "metadata": {},
   "outputs": [
    {
     "data": {
      "text/html": [
       "<div>\n",
       "<style scoped>\n",
       "    .dataframe tbody tr th:only-of-type {\n",
       "        vertical-align: middle;\n",
       "    }\n",
       "\n",
       "    .dataframe tbody tr th {\n",
       "        vertical-align: top;\n",
       "    }\n",
       "\n",
       "    .dataframe thead th {\n",
       "        text-align: right;\n",
       "    }\n",
       "</style>\n",
       "<table border=\"1\" class=\"dataframe\">\n",
       "  <thead>\n",
       "    <tr style=\"text-align: right;\">\n",
       "      <th></th>\n",
       "      <th>year_month</th>\n",
       "      <th>extreme_heat_days</th>\n",
       "      <th>extreme_cold_days</th>\n",
       "      <th>extreme_windy_days</th>\n",
       "    </tr>\n",
       "  </thead>\n",
       "  <tbody>\n",
       "    <tr>\n",
       "      <th>0</th>\n",
       "      <td>2023-01</td>\n",
       "      <td>4</td>\n",
       "      <td>13</td>\n",
       "      <td>7</td>\n",
       "    </tr>\n",
       "    <tr>\n",
       "      <th>1</th>\n",
       "      <td>2023-02</td>\n",
       "      <td>1</td>\n",
       "      <td>13</td>\n",
       "      <td>8</td>\n",
       "    </tr>\n",
       "    <tr>\n",
       "      <th>2</th>\n",
       "      <td>2023-03</td>\n",
       "      <td>2</td>\n",
       "      <td>17</td>\n",
       "      <td>11</td>\n",
       "    </tr>\n",
       "    <tr>\n",
       "      <th>3</th>\n",
       "      <td>2023-04</td>\n",
       "      <td>2</td>\n",
       "      <td>18</td>\n",
       "      <td>7</td>\n",
       "    </tr>\n",
       "    <tr>\n",
       "      <th>4</th>\n",
       "      <td>2023-05</td>\n",
       "      <td>3</td>\n",
       "      <td>20</td>\n",
       "      <td>8</td>\n",
       "    </tr>\n",
       "  </tbody>\n",
       "</table>\n",
       "</div>"
      ],
      "text/plain": [
       "  year_month  extreme_heat_days  extreme_cold_days  extreme_windy_days\n",
       "0    2023-01                  4                 13                   7\n",
       "1    2023-02                  1                 13                   8\n",
       "2    2023-03                  2                 17                  11\n",
       "3    2023-04                  2                 18                   7\n",
       "4    2023-05                  3                 20                   8"
      ]
     },
     "execution_count": 34,
     "metadata": {},
     "output_type": "execute_result"
    }
   ],
   "source": [
    "# VISUALISASI Extreme Heat Days (>90 °F) & Extreme Cold Days (<32 °F) per Year \n",
    "\n",
    "# pastikan kolom date sudah datetime\n",
    "daily_weather[\"date\"] = pd.to_datetime(daily_weather[\"date\"], errors=\"coerce\")\n",
    "\n",
    "# lalu buat kolom year_month\n",
    "daily_weather[\"year_month\"] = daily_weather[\"date\"].dt.to_period(\"M\")\n",
    "\n",
    "# agregasi\n",
    "df_heat_cold_windy_month = (\n",
    "    daily_weather.groupby(\"year_month\")\n",
    "    .agg(\n",
    "        extreme_heat_days=(\"tmax_f\", lambda x: (x > 90).sum()),\n",
    "        extreme_cold_days=(\"tmin_f\", lambda x: (x < 32).sum()),\n",
    "        extreme_windy_days=(\"wspd_mph\", lambda x: (x > 20).sum())\n",
    "    )\n",
    "    .reset_index()\n",
    ")\n",
    "\n",
    "# ubah kembali period jadi string (opsional untuk plotting)\n",
    "df_heat_cold_windy_month[\"year_month\"] = df_heat_cold_windy_month[\"year_month\"].astype(str)\n",
    "\n",
    "df_heat_cold_windy_month.head()\n"
   ]
  },
  {
   "cell_type": "code",
   "execution_count": 53,
   "id": "6c148a21-9f92-4f60-8b3d-68634f5000d4",
   "metadata": {},
   "outputs": [
    {
     "data": {
      "image/png": "[encoded data removed]",
      "text/plain": [
       "<Figure size 1200x600 with 1 Axes>"
      ]
     },
     "metadata": {},
     "output_type": "display_data"
    }
   ],
   "source": [
    "plt.figure(figsize=(12,6))\n",
    "ax = plt.gca()\n",
    "\n",
    "# Plot garis Extreme Heat\n",
    "sns.lineplot(\n",
    "    data=df_heat_cold_windy_month,\n",
    "    x=\"year_month\", y=\"extreme_heat_days\",\n",
    "    marker=\"o\", label=\"Extreme Heat (>90 °F)\", color=\"tomato\", ax=ax\n",
    ")\n",
    "\n",
    "# Plot garis Extreme Cold\n",
    "sns.lineplot(\n",
    "    data=df_heat_cold_windy_month,\n",
    "    x=\"year_month\", y=\"extreme_cold_days\",\n",
    "    marker=\"o\", label=\"Extreme Cold (<32 °F)\", color=\"skyblue\", ax=ax\n",
    ")\n",
    "\n",
    "# Plot garis Extreme Wind\n",
    "sns.lineplot(\n",
    "    data=df_heat_cold_windy_month,\n",
    "    x=\"year_month\", y=\"extreme_windy_days\",\n",
    "    marker=\"o\", label=\"Extreme Wind (>20 mph )\", color=\"purple\", ax=ax\n",
    ")\n",
    "# Cari index nilai min & max\n",
    "heat_min_idx = df_heat_cold_windy_month[\"extreme_heat_days\"].idxmin()\n",
    "heat_max_idx = df_heat_cold_windy_month[\"extreme_heat_days\"].idxmax()\n",
    "cold_min_idx = df_heat_cold_windy_month[\"extreme_cold_days\"].idxmin()\n",
    "cold_max_idx = df_heat_cold_windy_month[\"extreme_cold_days\"].idxmax()\n",
    "wind_min_idx = df_heat_cold_windy_month[\"extreme_windy_days\"].idxmin()\n",
    "wind_max_idx = df_heat_cold_windy_month[\"extreme_windy_days\"].idxmax()\n",
    "\n",
    "# Annotate Extreme Heat\n",
    "ax.annotate(\n",
    "    f\"Min: {df_heat_cold_windy_month.loc[heat_min_idx, 'extreme_heat_days']}\",\n",
    "    xy=(df_heat_cold_windy_month.loc[heat_min_idx, \"year_month\"], df_heat_cold_windy_month.loc[heat_min_idx, \"extreme_heat_days\"]),\n",
    "    xytext=(30, 30), textcoords='offset points',\n",
    "    arrowprops=dict(arrowstyle=\"->\", color=\"tomato\"),\n",
    "    color=\"tomato\"\n",
    ")\n",
    "\n",
    "ax.annotate(\n",
    "    f\"Max: {df_heat_cold_windy_month.loc[heat_max_idx, 'extreme_heat_days']}\",\n",
    "    xy=(df_heat_cold_windy_month.loc[heat_max_idx, \"year_month\"], df_heat_cold_windy_month.loc[heat_max_idx, \"extreme_heat_days\"]),\n",
    "    xytext=(-30, 30), textcoords='offset points',\n",
    "    arrowprops=dict(arrowstyle=\"->\", color=\"tomato\"),\n",
    "    color=\"tomato\"\n",
    ")\n",
    "\n",
    "# Annotate Extreme Cold\n",
    "ax.annotate(\n",
    "    f\"Min: {df_heat_cold_windy_month.loc[cold_min_idx, 'extreme_cold_days']}\",\n",
    "    xy=(df_heat_cold_windy_month.loc[cold_min_idx, \"year_month\"], df_heat_cold_windy_month.loc[cold_min_idx, \"extreme_cold_days\"]),\n",
    "    xytext=(30, 30), textcoords='offset points',\n",
    "    arrowprops=dict(arrowstyle=\"->\", color=\"skyblue\"),\n",
    "    color=\"skyblue\"\n",
    ")\n",
    "\n",
    "ax.annotate(\n",
    "    f\"Max: {df_heat_cold_windy_month.loc[cold_max_idx, 'extreme_cold_days']}\",\n",
    "    xy=(df_heat_cold_windy_month.loc[cold_max_idx, \"year_month\"], df_heat_cold_windy_month.loc[cold_max_idx, \"extreme_cold_days\"]),\n",
    "    xytext=(30, -10), textcoords='offset points',\n",
    "    arrowprops=dict(arrowstyle=\"->\", color=\"skyblue\"),\n",
    "    color=\"skyblue\"\n",
    ")\n",
    "\n",
    "# Annotate Extreme Wind\n",
    "ax.annotate(\n",
    "    f\"Min: {df_heat_cold_windy_month.loc[wind_min_idx, 'extreme_windy_days']}\",\n",
    "    xy=(df_heat_cold_windy_month.loc[wind_min_idx, \"year_month\"], df_heat_cold_windy_month.loc[wind_min_idx, \"extreme_windy_days\"]),\n",
    "    xytext=(-30, 30), textcoords='offset points',\n",
    "    arrowprops=dict(arrowstyle=\"->\", color=\"purple\"),\n",
    "    color=\"purple\"\n",
    ")\n",
    "\n",
    "ax.annotate(\n",
    "    f\"Max: {df_heat_cold_windy_month.loc[wind_max_idx, 'extreme_windy_days']}\",\n",
    "    xy=(df_heat_cold_windy_month.loc[wind_max_idx, \"year_month\"], df_heat_cold_windy_month.loc[wind_max_idx, \"extreme_windy_days\"]),\n",
    "    xytext=(30, 30), textcoords='offset points',\n",
    "    arrowprops=dict(arrowstyle=\"->\", color=\"purple\"),\n",
    "    color=\"purple\"\n",
    ")\n",
    "\n",
    "plt.title(\"Extreme Heat, Cold & Windy Days per Month\")\n",
    "plt.xticks(rotation=60)\n",
    "plt.ylabel(\"Number of Days\")\n",
    "plt.xlabel(\"Month\")\n",
    "plt.legend()\n",
    "plt.tight_layout()\n",
    "plt.savefig('extreme_heat_cold_windy.png', dpi=300, bbox_inches=\"tight\")\n",
    "plt.show()"
   ]
  },
  {
   "cell_type": "markdown",
   "id": "ca3fc78d-ea7d-4ce1-a2b1-bf680a35d5ec",
   "metadata": {},
   "source": [
    "### 📊 Insight Interpretasi Chart Extreme Heat, Cold & Windy Days\n",
    "Visualisasi ini menunjukkan:  \n",
    "1. **Hari dingin ekstrem** (<32 °F (0 °C)) lebih sering terjadi dibanding hari panas ekstrem (>90 °F (32.22 °C)) dan hari berangin ekstrem (>20 mph). \n",
    "2. Jumlah **hari dingin ekstrem** meningkat tajam di akhir tahun (Oktober–Desember), dengan puncak pada November.  \n",
    "3. **Hari panas ekstrem** hanya muncul di musim panas (Juli–Agustus) dengan jumlah yang relatif sedikit (≤ 6 hari/bulan).  \n",
    "4. **Hari berangin ekstrem** banyak terjadi pada awal musim semi (Maret) dan musim dingin (Desember), menunjukkan adanya perbedaan suhu yang signifikan antar massa udara.  \n",
    "5. Pola ini menggambarkan wilayah dengan **iklim empat musim**, dengan musim dingin yang lebih ekstrem dibandingkan musim panas. \n",
    "\n",
    "### 💡 Potensi Pemanfaatan Data Lanjutan\n",
    "- **Perencanaan Energi**: Prediksi permintaan listrik untuk pemanas & pendingin udara.  \n",
    "- **Industri Ritel**: Atur stok produk musiman (jaket, kipas angin) sesuai pola cuaca ekstrem.  \n",
    "- **Peringatan Dini**: Bahan untuk warning cuaca berangin ekstrem.  \n",
    "- **Perencanaan Infrastruktur**: Pertimbangan konstruksi & jaringan listrik.  \n",
    "- **Aktivitas Luar Ruangan**: Panduan event, olahraga, atau pariwisata."
   ]
  },
  {
   "cell_type": "code",
   "execution_count": null,
   "id": "410a98e2-6e59-4870-b0ed-a3094910c590",
   "metadata": {},
   "outputs": [],
   "source": []
  }
 ],
 "metadata": {
  "kernelspec": {
   "display_name": "Python 3 (ipykernel)",
   "language": "python",
   "name": "python3"
  },
  "language_info": {
   "codemirror_mode": {
    "name": "ipython",
    "version": 3
   },
   "file_extension": ".py",
   "mimetype": "text/x-python",
   "name": "python",
   "nbconvert_exporter": "python",
   "pygments_lexer": "ipython3",
   "version": "3.12.3"
  }
 },
 "nbformat": 4,
 "nbformat_minor": 5
}
